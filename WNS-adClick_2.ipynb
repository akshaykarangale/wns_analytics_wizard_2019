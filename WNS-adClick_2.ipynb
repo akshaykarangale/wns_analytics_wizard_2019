{
 "cells": [
  {
   "cell_type": "code",
   "execution_count": 1,
   "metadata": {
    "scrolled": true
   },
   "outputs": [
    {
     "name": "stderr",
     "output_type": "stream",
     "text": [
      "/anaconda3/lib/python3.7/site-packages/lightgbm/__init__.py:46: UserWarning: Starting from version 2.2.1, the library file in distribution wheels for macOS is built by the Apple Clang (Xcode_8.3.3) compiler.\n",
      "This means that in case of installing LightGBM from PyPI via the ``pip install lightgbm`` command, you don't need to install the gcc compiler anymore.\n",
      "Instead of that, you need to install the OpenMP library, which is required for running LightGBM on the system with the Apple Clang compiler.\n",
      "You can install the OpenMP library by the following command: ``brew install libomp``.\n",
      "  \"You can install the OpenMP library by the following command: ``brew install libomp``.\", UserWarning)\n"
     ]
    }
   ],
   "source": [
    "import pandas as pd\n",
    "import numpy as np\n",
    "from sklearn import model_selection, preprocessing, metrics\n",
    "from tqdm import tqdm_notebook\n",
    "import matplotlib.pyplot as plt\n",
    "from datetime import datetime\n",
    "import lightgbm\n",
    "import seaborn as sns\n",
    "import xgboost\n",
    "\n",
    "from sklearn import neural_network\n",
    "from scipy.stats import hmean"
   ]
  },
  {
   "cell_type": "code",
   "execution_count": 2,
   "metadata": {},
   "outputs": [
    {
     "data": {
      "application/vnd.jupyter.widget-view+json": {
       "model_id": "be04319fa1384fcf98df1671ce9a703e",
       "version_major": 2,
       "version_minor": 0
      },
      "text/plain": [
       "HBox(children=(IntProgress(value=1, bar_style='info', max=1), HTML(value='')))"
      ]
     },
     "metadata": {},
     "output_type": "display_data"
    },
    {
     "name": "stdout",
     "output_type": "stream",
     "text": [
      "\n"
     ]
    }
   ],
   "source": [
    "tqdm_notebook().pandas()"
   ]
  },
  {
   "cell_type": "code",
   "execution_count": 3,
   "metadata": {},
   "outputs": [],
   "source": [
    "df = pd.read_csv(\"/Users/aakashkerawat/autoML/wns_adclick/train.csv\")"
   ]
  },
  {
   "cell_type": "code",
   "execution_count": 4,
   "metadata": {},
   "outputs": [],
   "source": [
    "df_t = pd.read_csv(\"/Users/aakashkerawat/autoML/wns_adclick/test.csv\")"
   ]
  },
  {
   "cell_type": "code",
   "execution_count": 5,
   "metadata": {},
   "outputs": [],
   "source": [
    "df_v = pd.read_csv(\"/Users/aakashkerawat/autoML/wns_adclick/view_log.csv\")\n",
    "df_i = pd.read_csv(\"/Users/aakashkerawat/autoML/wns_adclick/item_data.csv\")"
   ]
  },
  {
   "cell_type": "code",
   "execution_count": 6,
   "metadata": {},
   "outputs": [],
   "source": [
    "df[\"impression_time\"] = pd.to_datetime(df[\"impression_time\"], format=\"%Y-%m-%d %H:%M:%S\")\n",
    "df_t[\"impression_time\"] = pd.to_datetime(df_t[\"impression_time\"], format=\"%Y-%m-%d %H:%M:%S\")\n",
    "df_v[\"server_time\"] = pd.to_datetime(df_v[\"server_time\"], format=\"%Y-%m-%d %H:%M:%S\")"
   ]
  },
  {
   "cell_type": "code",
   "execution_count": 7,
   "metadata": {
    "scrolled": true
   },
   "outputs": [],
   "source": [
    "df_v = df_v.sort_values([\"user_id\", \"server_time\"]).reset_index(drop=True)"
   ]
  },
  {
   "cell_type": "markdown",
   "metadata": {},
   "source": [
    "## Full df"
   ]
  },
  {
   "cell_type": "code",
   "execution_count": 8,
   "metadata": {},
   "outputs": [],
   "source": [
    "df_v[\"dummy_ones\"] = 1"
   ]
  },
  {
   "cell_type": "code",
   "execution_count": 9,
   "metadata": {},
   "outputs": [],
   "source": [
    "df_v[\"visit_number\"] = df_v.groupby(\"user_id\")[\"dummy_ones\"].cumsum()"
   ]
  },
  {
   "cell_type": "code",
   "execution_count": 10,
   "metadata": {},
   "outputs": [
    {
     "data": {
      "application/vnd.jupyter.widget-view+json": {
       "model_id": "2b68d30ac81449b38bf4403bc8b0258d",
       "version_major": 2,
       "version_minor": 0
      },
      "text/plain": [
       "HBox(children=(IntProgress(value=1, bar_style='info', max=1), HTML(value='')))"
      ]
     },
     "metadata": {},
     "output_type": "display_data"
    },
    {
     "name": "stderr",
     "output_type": "stream",
     "text": [
      "/anaconda3/lib/python3.7/site-packages/tqdm/_tqdm.py:660: FutureWarning: Currently, 'apply' passes the values as ndarrays to the applied function. In the future, this will change to passing it as Series objects. You need to specify 'raw=True' to keep the current behaviour, and you can pass 'raw=False' to silence this warning\n",
      "  result = getattr(df, df_function)(wrapper, **kwargs)\n"
     ]
    },
    {
     "name": "stdout",
     "output_type": "stream",
     "text": [
      "\n"
     ]
    },
    {
     "name": "stderr",
     "output_type": "stream",
     "text": [
      "/anaconda3/lib/python3.7/site-packages/ipykernel_launcher.py:3: FutureWarning: set_axis currently defaults to operating inplace.\n",
      "This will change in a future version of pandas, use inplace=True to avoid this warning.\n",
      "  This is separate from the ipykernel package so we can avoid doing imports until\n"
     ]
    }
   ],
   "source": [
    "session_number = df_v.groupby(\"user_id\")[\"session_id\"].expanding().progress_apply(lambda x: len(np.unique(x)))\n",
    "\n",
    "session_number.set_axis(df_v.index)\n",
    "\n",
    "df_v[\"session_number\"] = session_number"
   ]
  },
  {
   "cell_type": "code",
   "execution_count": 11,
   "metadata": {},
   "outputs": [
    {
     "data": {
      "application/vnd.jupyter.widget-view+json": {
       "model_id": "eb14d05e7f75424cb88d11feccdaf166",
       "version_major": 2,
       "version_minor": 0
      },
      "text/plain": [
       "HBox(children=(IntProgress(value=1, bar_style='info', max=1), HTML(value='')))"
      ]
     },
     "metadata": {},
     "output_type": "display_data"
    },
    {
     "name": "stdout",
     "output_type": "stream",
     "text": [
      "\n"
     ]
    },
    {
     "name": "stderr",
     "output_type": "stream",
     "text": [
      "/anaconda3/lib/python3.7/site-packages/ipykernel_launcher.py:3: FutureWarning: set_axis currently defaults to operating inplace.\n",
      "This will change in a future version of pandas, use inplace=True to avoid this warning.\n",
      "  This is separate from the ipykernel package so we can avoid doing imports until\n"
     ]
    }
   ],
   "source": [
    "item_number = df_v.groupby(\"user_id\")[\"item_id\"].expanding().progress_apply(lambda x: len(np.unique(x)))\n",
    "\n",
    "item_number.set_axis(df_v.index)\n",
    "\n",
    "df_v[\"item_number\"] = item_number"
   ]
  },
  {
   "cell_type": "code",
   "execution_count": 12,
   "metadata": {},
   "outputs": [],
   "source": [
    "views_cols = [\"user_id\", \"server_time\",\"visit_number\", \"session_number\", \"item_number\"]"
   ]
  },
  {
   "cell_type": "code",
   "execution_count": 13,
   "metadata": {},
   "outputs": [],
   "source": [
    "df = df.sort_values(\"impression_time\").reset_index(drop=True)"
   ]
  },
  {
   "cell_type": "code",
   "execution_count": 14,
   "metadata": {},
   "outputs": [],
   "source": [
    "df_t = df_t.sort_values(\"impression_time\").reset_index(drop=True)"
   ]
  },
  {
   "cell_type": "markdown",
   "metadata": {},
   "source": [
    "### Train test split fe"
   ]
  },
  {
   "cell_type": "code",
   "execution_count": 15,
   "metadata": {},
   "outputs": [],
   "source": [
    "df_v_tr = df_v.loc[df_v[\"server_time\"]<datetime(2018, 12, 3)].reset_index(drop=True)"
   ]
  },
  {
   "cell_type": "code",
   "execution_count": 16,
   "metadata": {},
   "outputs": [],
   "source": [
    "df_tr = df.loc[df[\"impression_time\"]<datetime(2018, 12, 3)].reset_index(drop=True)\n",
    "df_te = df.loc[df[\"impression_time\"]>=datetime(2018, 12, 3)].reset_index(drop=True)"
   ]
  },
  {
   "cell_type": "code",
   "execution_count": 17,
   "metadata": {},
   "outputs": [],
   "source": [
    "df_v_tr = df_v_tr.sort_values([\"server_time\"]).reset_index(drop=True)"
   ]
  },
  {
   "cell_type": "code",
   "execution_count": 18,
   "metadata": {},
   "outputs": [],
   "source": [
    "df_v = df_v.sort_values([\"server_time\"]).reset_index(drop=True)"
   ]
  },
  {
   "cell_type": "code",
   "execution_count": 19,
   "metadata": {
    "scrolled": true
   },
   "outputs": [],
   "source": [
    "df_f_tr = pd.merge_asof(left=df_tr, right=df_v_tr[views_cols], left_on=\"impression_time\", right_on=\"server_time\", direction=\"backward\", by=[\"user_id\"])\n",
    "\n",
    "df_f_te = pd.merge_asof(left=df_te, right=df_v_tr[views_cols], left_on=\"impression_time\", right_on=\"server_time\", direction=\"backward\", by=[\"user_id\"])"
   ]
  },
  {
   "cell_type": "code",
   "execution_count": 20,
   "metadata": {},
   "outputs": [],
   "source": [
    "df_f = pd.merge_asof(left=df, right=df_v[views_cols], left_on=\"impression_time\", right_on=\"server_time\", direction=\"backward\", by=[\"user_id\"])\n",
    "\n",
    "df_ft = pd.merge_asof(left=df_t, right=df_v[views_cols], left_on=\"impression_time\", right_on=\"server_time\", direction=\"backward\", by=[\"user_id\"])"
   ]
  },
  {
   "cell_type": "code",
   "execution_count": 21,
   "metadata": {},
   "outputs": [],
   "source": [
    "def generate_combined_features(df_train, df_test):\n",
    "    train_ids = df_train[\"impression_id\"].unique()\n",
    "    test_ids = df_test[\"impression_id\"].unique()\n",
    "    df_combined = pd.concat([df_train ,df_test]).reset_index(drop=True)\n",
    "    df_combined[\"impression_time_hour\"] =  df_combined[\"impression_time\"].dt.hour\n",
    "    df_combined[\"impression_time_dom\"] =  df_combined[\"impression_time\"].dt.day\n",
    "\n",
    "    df_combined = df_combined.sort_values([\"user_id\", \"impression_time\"]).reset_index(drop=True)\n",
    "\n",
    "    df_combined[\"user_click_ewm\"] = df_combined.groupby(\"user_id\")[\"is_click\"].progress_apply(lambda x: x.ewm(alpha=0.9).mean().shift())\n",
    "\n",
    "    df_combined[\"user_click_ewm2\"] = df_combined.groupby(\"user_id\")[\"is_click\"].progress_apply(lambda x: x.ewm(alpha=0.7).mean().shift())\n",
    "\n",
    "    df_combined[\"dummy_ones\"] = 1\n",
    "    df_combined[\"n_ad_seen\"] = df_combined.groupby(\"user_id\")[\"dummy_ones\"].cumsum()\n",
    "    del df_combined[\"dummy_ones\"]\n",
    "\n",
    "    df_combined[\"prev_add_seen_days_ago\"] = ((df_combined[\"impression_time\"]-df_combined[\"impression_time\"].shift()).dt.seconds)/60\n",
    "\n",
    "    user_same = df_combined[\"user_id\"]==df_combined[\"user_id\"].shift()\n",
    "    df_combined.loc[~user_same, \"prev_add_seen_days_ago\"] = np.nan\n",
    "\n",
    "    df_combined[\"prev_click_sum\"] = df_combined.groupby(\"user_id\")[\"is_click\"].progress_apply(lambda x: x.expanding().sum().shift())\n",
    "\n",
    "    df_combined[\"time_since_ads_started\"] = ((df_combined[\"impression_time\"]-df_combined[\"user_id\"].map(df_combined.groupby(\"user_id\")[\"impression_time\"].min())).dt.total_seconds())/60\n",
    "\n",
    "    df_combined = df_combined.sort_values([\"app_code\", \"impression_time\"]).reset_index(drop=True)\n",
    "\n",
    "    df_combined[\"dummy_ones\"] = 1\n",
    "    df_combined[\"app_code_count_n\"] = df_combined.groupby(\"app_code\")[\"dummy_ones\"].cumsum()\n",
    "    del df_combined[\"dummy_ones\"]\n",
    "\n",
    "    df_combined[\"app_click_ewm\"] = df_combined.groupby(\"app_code\")[\"is_click\"].progress_apply(lambda x: x.ewm(alpha=0.6).mean().shift())\n",
    "\n",
    "    df_combined[\"prev_app_click\"] = df_combined.groupby(\"app_code\")[\"is_click\"].progress_apply(lambda x: x.expanding().mean().shift())\n",
    "\n",
    "    df_combined[\"prev_app_click_sum\"] = df_combined.groupby(\"app_code\")[\"is_click\"].progress_apply(lambda x: x.expanding().sum().shift())\n",
    "\n",
    "    df_combined = df_combined.sort_values([\"impression_time\"]).reset_index(drop=True)\n",
    "\n",
    "    df_combined[\"prev_user_app_click_mean\"] = df_combined.groupby([\"user_id\", \"app_code\"])[\"is_click\"].progress_apply(lambda x: x.expanding().mean().shift())\n",
    "    \n",
    "    df_train = df_combined.loc[df_combined[\"impression_id\"].isin(train_ids)].reset_index(drop=True)\n",
    "    df_test = df_combined.loc[df_combined[\"impression_id\"].isin(test_ids)].reset_index(drop=True)\n",
    "    return df_train ,df_test"
   ]
  },
  {
   "cell_type": "code",
   "execution_count": 22,
   "metadata": {},
   "outputs": [
    {
     "data": {
      "application/vnd.jupyter.widget-view+json": {
       "model_id": "8a8971160dc54694b80608635c80cbcc",
       "version_major": 2,
       "version_minor": 0
      },
      "text/plain": [
       "HBox(children=(IntProgress(value=0, max=74723), HTML(value='')))"
      ]
     },
     "metadata": {},
     "output_type": "display_data"
    },
    {
     "name": "stdout",
     "output_type": "stream",
     "text": [
      "\n"
     ]
    },
    {
     "data": {
      "application/vnd.jupyter.widget-view+json": {
       "model_id": "2c02773b87264205a160f4deddba6b0f",
       "version_major": 2,
       "version_minor": 0
      },
      "text/plain": [
       "HBox(children=(IntProgress(value=0, max=74723), HTML(value='')))"
      ]
     },
     "metadata": {},
     "output_type": "display_data"
    },
    {
     "name": "stdout",
     "output_type": "stream",
     "text": [
      "\n"
     ]
    },
    {
     "data": {
      "application/vnd.jupyter.widget-view+json": {
       "model_id": "ceb9d48108174fd48d6361e1fbe56140",
       "version_major": 2,
       "version_minor": 0
      },
      "text/plain": [
       "HBox(children=(IntProgress(value=0, max=74723), HTML(value='')))"
      ]
     },
     "metadata": {},
     "output_type": "display_data"
    },
    {
     "name": "stdout",
     "output_type": "stream",
     "text": [
      "\n"
     ]
    },
    {
     "data": {
      "application/vnd.jupyter.widget-view+json": {
       "model_id": "560570145642447dab96eda54588fb96",
       "version_major": 2,
       "version_minor": 0
      },
      "text/plain": [
       "HBox(children=(IntProgress(value=0, max=490), HTML(value='')))"
      ]
     },
     "metadata": {},
     "output_type": "display_data"
    },
    {
     "name": "stdout",
     "output_type": "stream",
     "text": [
      "\n"
     ]
    },
    {
     "data": {
      "application/vnd.jupyter.widget-view+json": {
       "model_id": "2d9de50123424e58880f5f265ea203f8",
       "version_major": 2,
       "version_minor": 0
      },
      "text/plain": [
       "HBox(children=(IntProgress(value=0, max=490), HTML(value='')))"
      ]
     },
     "metadata": {},
     "output_type": "display_data"
    },
    {
     "name": "stdout",
     "output_type": "stream",
     "text": [
      "\n"
     ]
    },
    {
     "data": {
      "application/vnd.jupyter.widget-view+json": {
       "model_id": "0a57f3cac0fa453ea0474f3023a095d9",
       "version_major": 2,
       "version_minor": 0
      },
      "text/plain": [
       "HBox(children=(IntProgress(value=0, max=490), HTML(value='')))"
      ]
     },
     "metadata": {},
     "output_type": "display_data"
    },
    {
     "name": "stdout",
     "output_type": "stream",
     "text": [
      "\n"
     ]
    },
    {
     "data": {
      "application/vnd.jupyter.widget-view+json": {
       "model_id": "b94b5739a25a4aa3aa8be5793b04df46",
       "version_major": 2,
       "version_minor": 0
      },
      "text/plain": [
       "HBox(children=(IntProgress(value=0, max=82788), HTML(value='')))"
      ]
     },
     "metadata": {},
     "output_type": "display_data"
    },
    {
     "name": "stdout",
     "output_type": "stream",
     "text": [
      "\n"
     ]
    }
   ],
   "source": [
    "df_f_tr, df_f_te = generate_combined_features(df_f_tr, df_f_te)"
   ]
  },
  {
   "cell_type": "code",
   "execution_count": 23,
   "metadata": {
    "scrolled": true
   },
   "outputs": [
    {
     "name": "stderr",
     "output_type": "stream",
     "text": [
      "/anaconda3/lib/python3.7/site-packages/ipykernel_launcher.py:4: FutureWarning: Sorting because non-concatenation axis is not aligned. A future version\n",
      "of pandas will change to not sort by default.\n",
      "\n",
      "To accept the future behavior, pass 'sort=False'.\n",
      "\n",
      "To retain the current behavior and silence the warning, pass 'sort=True'.\n",
      "\n",
      "  after removing the cwd from sys.path.\n"
     ]
    },
    {
     "data": {
      "application/vnd.jupyter.widget-view+json": {
       "model_id": "aa524b1e960b49a6bcedd7c8fbcd9c81",
       "version_major": 2,
       "version_minor": 0
      },
      "text/plain": [
       "HBox(children=(IntProgress(value=0, max=89157), HTML(value='')))"
      ]
     },
     "metadata": {},
     "output_type": "display_data"
    },
    {
     "name": "stdout",
     "output_type": "stream",
     "text": [
      "\n"
     ]
    },
    {
     "data": {
      "application/vnd.jupyter.widget-view+json": {
       "model_id": "ea936d70ae3a450295977b00b1c1f9a9",
       "version_major": 2,
       "version_minor": 0
      },
      "text/plain": [
       "HBox(children=(IntProgress(value=0, max=89157), HTML(value='')))"
      ]
     },
     "metadata": {},
     "output_type": "display_data"
    },
    {
     "name": "stdout",
     "output_type": "stream",
     "text": [
      "\n"
     ]
    },
    {
     "data": {
      "application/vnd.jupyter.widget-view+json": {
       "model_id": "28932f54b3c34e20a6d14119d6e692f4",
       "version_major": 2,
       "version_minor": 0
      },
      "text/plain": [
       "HBox(children=(IntProgress(value=0, max=89157), HTML(value='')))"
      ]
     },
     "metadata": {},
     "output_type": "display_data"
    },
    {
     "name": "stdout",
     "output_type": "stream",
     "text": [
      "\n"
     ]
    },
    {
     "data": {
      "application/vnd.jupyter.widget-view+json": {
       "model_id": "a64ee227d76b4206b0014e8c630cd742",
       "version_major": 2,
       "version_minor": 0
      },
      "text/plain": [
       "HBox(children=(IntProgress(value=0, max=522), HTML(value='')))"
      ]
     },
     "metadata": {},
     "output_type": "display_data"
    },
    {
     "name": "stdout",
     "output_type": "stream",
     "text": [
      "\n"
     ]
    },
    {
     "data": {
      "application/vnd.jupyter.widget-view+json": {
       "model_id": "6f67e8d55b5b4b9b89309b43986cd64a",
       "version_major": 2,
       "version_minor": 0
      },
      "text/plain": [
       "HBox(children=(IntProgress(value=0, max=522), HTML(value='')))"
      ]
     },
     "metadata": {},
     "output_type": "display_data"
    },
    {
     "name": "stdout",
     "output_type": "stream",
     "text": [
      "\n"
     ]
    },
    {
     "data": {
      "application/vnd.jupyter.widget-view+json": {
       "model_id": "3cf5ddb7433a4d628461413974c1a435",
       "version_major": 2,
       "version_minor": 0
      },
      "text/plain": [
       "HBox(children=(IntProgress(value=0, max=522), HTML(value='')))"
      ]
     },
     "metadata": {},
     "output_type": "display_data"
    },
    {
     "name": "stdout",
     "output_type": "stream",
     "text": [
      "\n"
     ]
    },
    {
     "data": {
      "application/vnd.jupyter.widget-view+json": {
       "model_id": "f2c58faaef2043fc8cde1302f51957b9",
       "version_major": 2,
       "version_minor": 0
      },
      "text/plain": [
       "HBox(children=(IntProgress(value=0, max=99679), HTML(value='')))"
      ]
     },
     "metadata": {},
     "output_type": "display_data"
    },
    {
     "name": "stdout",
     "output_type": "stream",
     "text": [
      "\n"
     ]
    }
   ],
   "source": [
    "df_f, df_ft = generate_combined_features(df_f, df_ft)"
   ]
  },
  {
   "cell_type": "code",
   "execution_count": 24,
   "metadata": {},
   "outputs": [],
   "source": [
    "def generate_count_feats(df_train, df_test):\n",
    "    df_train[\"user_count_leak\"] = df_train[\"user_id\"].map(df_train[\"user_id\"].value_counts())\n",
    "    df_test[\"user_count_leak\"] = df_test[\"user_id\"].map(df_train[\"user_id\"].value_counts())\n",
    "\n",
    "    df_train[\"app_count_leak\"] = df_train[\"app_code\"].map(df_train[\"app_code\"].value_counts())\n",
    "    df_test[\"app_count_leak\"] = df_test[\"app_code\"].map(df_train[\"app_code\"].value_counts())\n",
    "    return df_train, df_test"
   ]
  },
  {
   "cell_type": "code",
   "execution_count": 25,
   "metadata": {},
   "outputs": [],
   "source": [
    "df_f_tr, df_f_te = generate_count_feats(df_f_tr, df_f_te)\n",
    "df_f, df_ft = generate_count_feats(df_f, df_ft)"
   ]
  },
  {
   "cell_type": "code",
   "execution_count": 26,
   "metadata": {},
   "outputs": [],
   "source": [
    "predictors = df_f_tr.columns.drop([\"impression_id\", \"impression_time\",\"is_click\", \"server_time\",\n",
    "                                    \"os_version\", \"user_id\", \"app_code\", \"session_number\", \"item_number\", \"time_since_ads_started\"])"
   ]
  },
  {
   "cell_type": "code",
   "execution_count": 27,
   "metadata": {},
   "outputs": [
    {
     "data": {
      "text/plain": [
       "Index(['is_4G', 'visit_number', 'impression_time_hour', 'impression_time_dom',\n",
       "       'user_click_ewm', 'user_click_ewm2', 'n_ad_seen',\n",
       "       'prev_add_seen_days_ago', 'prev_click_sum', 'app_code_count_n',\n",
       "       'app_click_ewm', 'prev_app_click', 'prev_app_click_sum',\n",
       "       'prev_user_app_click_mean', 'user_count_leak', 'app_count_leak'],\n",
       "      dtype='object')"
      ]
     },
     "execution_count": 27,
     "metadata": {},
     "output_type": "execute_result"
    }
   ],
   "source": [
    "predictors"
   ]
  },
  {
   "cell_type": "code",
   "execution_count": 28,
   "metadata": {},
   "outputs": [
    {
     "data": {
      "text/plain": [
       "16"
      ]
     },
     "execution_count": 28,
     "metadata": {},
     "output_type": "execute_result"
    }
   ],
   "source": [
    "len(predictors)"
   ]
  },
  {
   "cell_type": "code",
   "execution_count": 29,
   "metadata": {},
   "outputs": [],
   "source": [
    "lgb = lightgbm.LGBMClassifier(n_estimators=650, max_depth=5, learning_rate=0.005, colsample_bytree=0.6, random_state=2019)"
   ]
  },
  {
   "cell_type": "code",
   "execution_count": 30,
   "metadata": {
    "scrolled": true
   },
   "outputs": [
    {
     "data": {
      "text/plain": [
       "LGBMClassifier(boosting_type='gbdt', class_weight=None, colsample_bytree=0.6,\n",
       "        importance_type='split', learning_rate=0.005, max_depth=5,\n",
       "        min_child_samples=20, min_child_weight=0.001, min_split_gain=0.0,\n",
       "        n_estimators=650, n_jobs=-1, num_leaves=31, objective=None,\n",
       "        random_state=2019, reg_alpha=0.0, reg_lambda=0.0, silent=True,\n",
       "        subsample=1.0, subsample_for_bin=200000, subsample_freq=0)"
      ]
     },
     "execution_count": 30,
     "metadata": {},
     "output_type": "execute_result"
    }
   ],
   "source": [
    "lgb.fit(df_f_tr[predictors], df_f_tr[\"is_click\"])"
   ]
  },
  {
   "cell_type": "code",
   "execution_count": 31,
   "metadata": {},
   "outputs": [],
   "source": [
    "preds = lgb.predict_proba(df_f_te[predictors])[:,1]\n",
    "preds_tr = lgb.predict_proba(df_f_tr[predictors])[:,1]"
   ]
  },
  {
   "cell_type": "code",
   "execution_count": 32,
   "metadata": {
    "scrolled": false
   },
   "outputs": [
    {
     "data": {
      "text/plain": [
       "(0.7491758398634748, 0.7435771493923812)"
      ]
     },
     "execution_count": 32,
     "metadata": {},
     "output_type": "execute_result"
    }
   ],
   "source": [
    "metrics.roc_auc_score(df_f_tr[\"is_click\"], preds_tr), metrics.roc_auc_score(df_f_te[\"is_click\"], preds)"
   ]
  },
  {
   "cell_type": "code",
   "execution_count": 33,
   "metadata": {
    "scrolled": true
   },
   "outputs": [
    {
     "data": {
      "text/plain": [
       "<matplotlib.axes._subplots.AxesSubplot at 0x1a2a5b3eb8>"
      ]
     },
     "execution_count": 33,
     "metadata": {},
     "output_type": "execute_result"
    },
    {
     "data": {
      "image/png": "[encoded data removed]",
      "text/plain": [
       "<Figure size 432x288 with 1 Axes>"
      ]
     },
     "metadata": {
      "needs_background": "light"
     },
     "output_type": "display_data"
    }
   ],
   "source": [
    "lightgbm.plot_importance(lgb, importance_type=\"gain\")"
   ]
  },
  {
   "cell_type": "code",
   "execution_count": 34,
   "metadata": {},
   "outputs": [],
   "source": [
    "nn = neural_network.MLPClassifier(hidden_layer_sizes=(25, 10), verbose=1, random_state=1000)"
   ]
  },
  {
   "cell_type": "code",
   "execution_count": 35,
   "metadata": {},
   "outputs": [],
   "source": [
    "scaler = preprocessing.StandardScaler()"
   ]
  },
  {
   "cell_type": "code",
   "execution_count": 36,
   "metadata": {},
   "outputs": [],
   "source": [
    "df_f_tr_filled = df_f_tr.copy()\n",
    "df_f_te_filled = df_f_te.copy()"
   ]
  },
  {
   "cell_type": "code",
   "execution_count": 37,
   "metadata": {
    "scrolled": true
   },
   "outputs": [
    {
     "name": "stdout",
     "output_type": "stream",
     "text": [
      "is_4G\n",
      "visit_number\n",
      "impression_time_hour\n",
      "impression_time_dom\n",
      "user_click_ewm\n",
      "user_click_ewm2\n",
      "n_ad_seen\n",
      "prev_add_seen_days_ago\n",
      "prev_click_sum\n",
      "app_code_count_n\n",
      "app_click_ewm\n",
      "prev_app_click\n",
      "prev_app_click_sum\n",
      "prev_user_app_click_mean\n",
      "user_count_leak\n",
      "app_count_leak\n"
     ]
    }
   ],
   "source": [
    "for col in predictors:\n",
    "    mean_ = df_f_tr[col].mean()\n",
    "    print(col)\n",
    "    df_f_tr_filled[col] = df_f_tr_filled[col].fillna(mean_)\n",
    "    df_f_te_filled[col] = df_f_te_filled[col].fillna(mean_)"
   ]
  },
  {
   "cell_type": "code",
   "execution_count": 38,
   "metadata": {
    "scrolled": true
   },
   "outputs": [
    {
     "name": "stderr",
     "output_type": "stream",
     "text": [
      "/anaconda3/lib/python3.7/site-packages/sklearn/preprocessing/data.py:625: DataConversionWarning: Data with input dtype int64, float64 were all converted to float64 by StandardScaler.\n",
      "  return self.partial_fit(X, y)\n",
      "/anaconda3/lib/python3.7/site-packages/sklearn/base.py:462: DataConversionWarning: Data with input dtype int64, float64 were all converted to float64 by StandardScaler.\n",
      "  return self.fit(X, **fit_params).transform(X)\n"
     ]
    }
   ],
   "source": [
    "tr_sc = scaler.fit_transform(df_f_tr_filled[predictors])"
   ]
  },
  {
   "cell_type": "code",
   "execution_count": 39,
   "metadata": {},
   "outputs": [
    {
     "name": "stderr",
     "output_type": "stream",
     "text": [
      "/anaconda3/lib/python3.7/site-packages/ipykernel_launcher.py:1: DataConversionWarning: Data with input dtype int64, float64 were all converted to float64 by StandardScaler.\n",
      "  \"\"\"Entry point for launching an IPython kernel.\n"
     ]
    }
   ],
   "source": [
    "te_sc = scaler.transform(df_f_te_filled[predictors])"
   ]
  },
  {
   "cell_type": "code",
   "execution_count": 40,
   "metadata": {
    "scrolled": true
   },
   "outputs": [
    {
     "name": "stdout",
     "output_type": "stream",
     "text": [
      "Iteration 1, loss = 0.22083339\n",
      "Iteration 2, loss = 0.17349259\n",
      "Iteration 3, loss = 0.17240066\n",
      "Iteration 4, loss = 0.17179769\n",
      "Iteration 5, loss = 0.17139478\n",
      "Iteration 6, loss = 0.17107568\n",
      "Iteration 7, loss = 0.17101772\n",
      "Iteration 8, loss = 0.17089016\n",
      "Iteration 9, loss = 0.17071538\n",
      "Iteration 10, loss = 0.17061604\n",
      "Iteration 11, loss = 0.17051365\n",
      "Iteration 12, loss = 0.17045071\n",
      "Iteration 13, loss = 0.17034039\n",
      "Iteration 14, loss = 0.17034513\n",
      "Iteration 15, loss = 0.17021090\n",
      "Iteration 16, loss = 0.17018129\n",
      "Iteration 17, loss = 0.17016966\n",
      "Iteration 18, loss = 0.17005310\n",
      "Iteration 19, loss = 0.17001507\n",
      "Iteration 20, loss = 0.17005453\n",
      "Iteration 21, loss = 0.17002015\n",
      "Iteration 22, loss = 0.16982289\n",
      "Iteration 23, loss = 0.16988119\n",
      "Iteration 24, loss = 0.16989444\n",
      "Iteration 25, loss = 0.16983195\n",
      "Iteration 26, loss = 0.16976187\n",
      "Iteration 27, loss = 0.16974876\n",
      "Iteration 28, loss = 0.16975847\n",
      "Iteration 29, loss = 0.16969730\n",
      "Iteration 30, loss = 0.16951427\n",
      "Iteration 31, loss = 0.16955108\n",
      "Iteration 32, loss = 0.16952609\n",
      "Iteration 33, loss = 0.16947675\n",
      "Iteration 34, loss = 0.16947153\n",
      "Iteration 35, loss = 0.16939264\n",
      "Iteration 36, loss = 0.16930321\n",
      "Iteration 37, loss = 0.16943566\n",
      "Iteration 38, loss = 0.16926601\n",
      "Iteration 39, loss = 0.16923799\n",
      "Iteration 40, loss = 0.16925908\n",
      "Iteration 41, loss = 0.16919039\n",
      "Training loss did not improve more than tol=0.000100 for 10 consecutive epochs. Stopping.\n"
     ]
    },
    {
     "data": {
      "text/plain": [
       "MLPClassifier(activation='relu', alpha=0.0001, batch_size='auto', beta_1=0.9,\n",
       "       beta_2=0.999, early_stopping=False, epsilon=1e-08,\n",
       "       hidden_layer_sizes=(25, 10), learning_rate='constant',\n",
       "       learning_rate_init=0.001, max_iter=200, momentum=0.9,\n",
       "       n_iter_no_change=10, nesterovs_momentum=True, power_t=0.5,\n",
       "       random_state=1000, shuffle=True, solver='adam', tol=0.0001,\n",
       "       validation_fraction=0.1, verbose=1, warm_start=False)"
      ]
     },
     "execution_count": 40,
     "metadata": {},
     "output_type": "execute_result"
    }
   ],
   "source": [
    "nn.fit(tr_sc, df_f_tr[\"is_click\"])"
   ]
  },
  {
   "cell_type": "code",
   "execution_count": 41,
   "metadata": {},
   "outputs": [],
   "source": [
    "preds = nn.predict_proba(te_sc)[:,1]\n",
    "preds_tr = nn.predict_proba(tr_sc)[:,1]"
   ]
  },
  {
   "cell_type": "code",
   "execution_count": 42,
   "metadata": {
    "scrolled": false
   },
   "outputs": [
    {
     "data": {
      "text/plain": [
       "(0.7315617760449162, 0.7297852262448479)"
      ]
     },
     "execution_count": 42,
     "metadata": {},
     "output_type": "execute_result"
    }
   ],
   "source": [
    "metrics.roc_auc_score(df_f_tr[\"is_click\"], preds_tr), metrics.roc_auc_score(df_f_te[\"is_click\"], preds)"
   ]
  },
  {
   "cell_type": "markdown",
   "metadata": {},
   "source": [
    "### Final training"
   ]
  },
  {
   "cell_type": "code",
   "execution_count": 43,
   "metadata": {},
   "outputs": [],
   "source": [
    "df_f_filled = df_f.copy()\n",
    "df_ft_filled = df_ft.copy()"
   ]
  },
  {
   "cell_type": "code",
   "execution_count": 44,
   "metadata": {
    "scrolled": true
   },
   "outputs": [
    {
     "name": "stdout",
     "output_type": "stream",
     "text": [
      "is_4G\n",
      "visit_number\n",
      "impression_time_hour\n",
      "impression_time_dom\n",
      "user_click_ewm\n",
      "user_click_ewm2\n",
      "n_ad_seen\n",
      "prev_add_seen_days_ago\n",
      "prev_click_sum\n",
      "app_code_count_n\n",
      "app_click_ewm\n",
      "prev_app_click\n",
      "prev_app_click_sum\n",
      "prev_user_app_click_mean\n",
      "user_count_leak\n",
      "app_count_leak\n"
     ]
    }
   ],
   "source": [
    "for col in predictors:\n",
    "    mean_ = df_f[col].mean()\n",
    "    print(col)\n",
    "    df_f_filled[col] = df_f_filled[col].fillna(mean_)\n",
    "    df_ft_filled[col] = df_ft_filled[col].fillna(mean_)"
   ]
  },
  {
   "cell_type": "code",
   "execution_count": 45,
   "metadata": {},
   "outputs": [
    {
     "name": "stderr",
     "output_type": "stream",
     "text": [
      "/anaconda3/lib/python3.7/site-packages/sklearn/preprocessing/data.py:625: DataConversionWarning: Data with input dtype int64, float64 were all converted to float64 by StandardScaler.\n",
      "  return self.partial_fit(X, y)\n",
      "/anaconda3/lib/python3.7/site-packages/sklearn/base.py:462: DataConversionWarning: Data with input dtype int64, float64 were all converted to float64 by StandardScaler.\n",
      "  return self.fit(X, **fit_params).transform(X)\n"
     ]
    }
   ],
   "source": [
    "tr_f_sc = scaler.fit_transform(df_f_filled[predictors])"
   ]
  },
  {
   "cell_type": "code",
   "execution_count": 46,
   "metadata": {},
   "outputs": [
    {
     "name": "stderr",
     "output_type": "stream",
     "text": [
      "/anaconda3/lib/python3.7/site-packages/ipykernel_launcher.py:1: DataConversionWarning: Data with input dtype int64, float64 were all converted to float64 by StandardScaler.\n",
      "  \"\"\"Entry point for launching an IPython kernel.\n"
     ]
    }
   ],
   "source": [
    "te_f_sc = scaler.transform(df_ft_filled[predictors])"
   ]
  },
  {
   "cell_type": "code",
   "execution_count": 47,
   "metadata": {
    "scrolled": true
   },
   "outputs": [
    {
     "name": "stdout",
     "output_type": "stream",
     "text": [
      "1000\n",
      "Iteration 1, loss = 0.20521954\n",
      "Iteration 2, loss = 0.17247245\n",
      "Iteration 3, loss = 0.17164836\n",
      "Iteration 4, loss = 0.17126577\n",
      "Iteration 5, loss = 0.17099261\n",
      "Iteration 6, loss = 0.17089058\n",
      "Iteration 7, loss = 0.17080486\n",
      "Iteration 8, loss = 0.17072739\n",
      "Iteration 9, loss = 0.17060419\n",
      "Iteration 10, loss = 0.17052461\n",
      "Iteration 11, loss = 0.17043661\n",
      "Iteration 12, loss = 0.17039701\n",
      "Iteration 13, loss = 0.17031689\n",
      "Iteration 14, loss = 0.17027241\n",
      "Iteration 15, loss = 0.17019154\n",
      "Iteration 16, loss = 0.17008047\n",
      "Iteration 17, loss = 0.17006118\n",
      "Iteration 18, loss = 0.17005557\n",
      "Iteration 19, loss = 0.16995113\n",
      "Iteration 20, loss = 0.16990861\n",
      "Iteration 21, loss = 0.16993281\n",
      "Iteration 22, loss = 0.16987339\n",
      "Iteration 23, loss = 0.16988444\n",
      "Iteration 24, loss = 0.16981340\n",
      "Iteration 25, loss = 0.16977543\n",
      "Iteration 26, loss = 0.16970418\n",
      "Iteration 27, loss = 0.16975709\n",
      "Iteration 28, loss = 0.16969352\n",
      "Iteration 29, loss = 0.16966912\n",
      "Iteration 30, loss = 0.16960936\n",
      "Training loss did not improve more than tol=0.000100 for 10 consecutive epochs. Stopping.\n",
      "1001\n",
      "Iteration 1, loss = 0.19387249\n",
      "Iteration 2, loss = 0.17256261\n",
      "Iteration 3, loss = 0.17169706\n",
      "Iteration 4, loss = 0.17137244\n",
      "Iteration 5, loss = 0.17104495\n",
      "Iteration 6, loss = 0.17081937\n",
      "Iteration 7, loss = 0.17074260\n",
      "Iteration 8, loss = 0.17061079\n",
      "Iteration 9, loss = 0.17053760\n",
      "Iteration 10, loss = 0.17043617\n",
      "Iteration 11, loss = 0.17033866\n",
      "Iteration 12, loss = 0.17029581\n",
      "Iteration 13, loss = 0.17023545\n",
      "Iteration 14, loss = 0.17016590\n",
      "Iteration 15, loss = 0.17009900\n",
      "Iteration 16, loss = 0.17001312\n",
      "Iteration 17, loss = 0.17001988\n",
      "Iteration 18, loss = 0.16990027\n",
      "Iteration 19, loss = 0.16983335\n",
      "Iteration 20, loss = 0.16980870\n",
      "Iteration 21, loss = 0.16977823\n",
      "Iteration 22, loss = 0.16973141\n",
      "Iteration 23, loss = 0.16973051\n",
      "Iteration 24, loss = 0.16965728\n",
      "Iteration 25, loss = 0.16961441\n",
      "Iteration 26, loss = 0.16956413\n",
      "Iteration 27, loss = 0.16956456\n",
      "Iteration 28, loss = 0.16954509\n",
      "Iteration 29, loss = 0.16950061\n",
      "Training loss did not improve more than tol=0.000100 for 10 consecutive epochs. Stopping.\n",
      "1002\n",
      "Iteration 1, loss = 0.19659879\n",
      "Iteration 2, loss = 0.17290819\n",
      "Iteration 3, loss = 0.17193826\n",
      "Iteration 4, loss = 0.17151589\n",
      "Iteration 5, loss = 0.17122090\n",
      "Iteration 6, loss = 0.17105296\n",
      "Iteration 7, loss = 0.17090012\n",
      "Iteration 8, loss = 0.17077096\n",
      "Iteration 9, loss = 0.17071251\n",
      "Iteration 10, loss = 0.17066283\n",
      "Iteration 11, loss = 0.17054076\n",
      "Iteration 12, loss = 0.17053247\n",
      "Iteration 13, loss = 0.17047493\n",
      "Iteration 14, loss = 0.17040718\n",
      "Iteration 15, loss = 0.17046779\n",
      "Iteration 16, loss = 0.17028124\n",
      "Iteration 17, loss = 0.17024550\n",
      "Iteration 18, loss = 0.17021781\n",
      "Iteration 19, loss = 0.17024443\n",
      "Iteration 20, loss = 0.17011080\n",
      "Iteration 21, loss = 0.17007302\n",
      "Iteration 22, loss = 0.17009736\n",
      "Iteration 23, loss = 0.17000897\n",
      "Iteration 24, loss = 0.16996661\n",
      "Iteration 25, loss = 0.16995023\n",
      "Iteration 26, loss = 0.16989383\n",
      "Iteration 27, loss = 0.16988668\n",
      "Iteration 28, loss = 0.16986386\n",
      "Iteration 29, loss = 0.16984931\n",
      "Iteration 30, loss = 0.16979788\n",
      "Iteration 31, loss = 0.16977700\n",
      "Training loss did not improve more than tol=0.000100 for 10 consecutive epochs. Stopping.\n",
      "1003\n",
      "Iteration 1, loss = 0.18631064\n",
      "Iteration 2, loss = 0.17179607\n",
      "Iteration 3, loss = 0.17126397\n",
      "Iteration 4, loss = 0.17097238\n",
      "Iteration 5, loss = 0.17079285\n",
      "Iteration 6, loss = 0.17064780\n",
      "Iteration 7, loss = 0.17050701\n",
      "Iteration 8, loss = 0.17045377\n",
      "Iteration 9, loss = 0.17035722\n",
      "Iteration 10, loss = 0.17034636\n",
      "Iteration 11, loss = 0.17024947\n",
      "Iteration 12, loss = 0.17021188\n",
      "Iteration 13, loss = 0.17016969\n",
      "Iteration 14, loss = 0.17009697\n",
      "Iteration 15, loss = 0.16999721\n",
      "Iteration 16, loss = 0.16998438\n",
      "Iteration 17, loss = 0.16995812\n",
      "Iteration 18, loss = 0.16994440\n",
      "Training loss did not improve more than tol=0.000100 for 10 consecutive epochs. Stopping.\n",
      "1004\n",
      "Iteration 1, loss = 0.22833254\n",
      "Iteration 2, loss = 0.17327646\n",
      "Iteration 3, loss = 0.17195668\n",
      "Iteration 4, loss = 0.17146095\n",
      "Iteration 5, loss = 0.17129131\n",
      "Iteration 6, loss = 0.17103610\n",
      "Iteration 7, loss = 0.17087084\n",
      "Iteration 8, loss = 0.17080629\n",
      "Iteration 9, loss = 0.17061922\n",
      "Iteration 10, loss = 0.17066881\n",
      "Iteration 11, loss = 0.17051985\n",
      "Iteration 12, loss = 0.17043659\n",
      "Iteration 13, loss = 0.17042657\n",
      "Iteration 14, loss = 0.17033166\n",
      "Iteration 15, loss = 0.17031357\n",
      "Iteration 16, loss = 0.17026780\n",
      "Iteration 17, loss = 0.17021974\n",
      "Iteration 18, loss = 0.17019002\n",
      "Iteration 19, loss = 0.17010579\n",
      "Iteration 20, loss = 0.17009976\n",
      "Training loss did not improve more than tol=0.000100 for 10 consecutive epochs. Stopping.\n",
      "1005\n",
      "Iteration 1, loss = 0.18160988\n",
      "Iteration 2, loss = 0.17198420\n",
      "Iteration 3, loss = 0.17134385\n",
      "Iteration 4, loss = 0.17107738\n",
      "Iteration 5, loss = 0.17086939\n",
      "Iteration 6, loss = 0.17070132\n",
      "Iteration 7, loss = 0.17069318\n",
      "Iteration 8, loss = 0.17061179\n",
      "Iteration 9, loss = 0.17053400\n",
      "Iteration 10, loss = 0.17040034\n",
      "Iteration 11, loss = 0.17032065\n",
      "Iteration 12, loss = 0.17033048\n",
      "Iteration 13, loss = 0.17023871\n",
      "Iteration 14, loss = 0.17020479\n",
      "Iteration 15, loss = 0.17017257\n",
      "Iteration 16, loss = 0.17006847\n",
      "Iteration 17, loss = 0.17011701\n",
      "Iteration 18, loss = 0.17006337\n",
      "Iteration 19, loss = 0.16998875\n",
      "Iteration 20, loss = 0.16999358\n",
      "Iteration 21, loss = 0.16989843\n",
      "Iteration 22, loss = 0.16986959\n",
      "Iteration 23, loss = 0.16983460\n",
      "Iteration 24, loss = 0.16982666\n",
      "Iteration 25, loss = 0.16986450\n",
      "Iteration 26, loss = 0.16977824\n",
      "Iteration 27, loss = 0.16975753\n",
      "Training loss did not improve more than tol=0.000100 for 10 consecutive epochs. Stopping.\n",
      "1006\n",
      "Iteration 1, loss = 0.18240883\n",
      "Iteration 2, loss = 0.17180890\n",
      "Iteration 3, loss = 0.17133568\n",
      "Iteration 4, loss = 0.17112476\n",
      "Iteration 5, loss = 0.17094302\n",
      "Iteration 6, loss = 0.17079092\n",
      "Iteration 7, loss = 0.17069443\n",
      "Iteration 8, loss = 0.17055405\n",
      "Iteration 9, loss = 0.17050583\n",
      "Iteration 10, loss = 0.17042274\n",
      "Iteration 11, loss = 0.17031329\n",
      "Iteration 12, loss = 0.17021540\n",
      "Iteration 13, loss = 0.17015371\n",
      "Iteration 14, loss = 0.17009835\n",
      "Iteration 15, loss = 0.17004526\n",
      "Iteration 16, loss = 0.16993214\n",
      "Iteration 17, loss = 0.16995988\n",
      "Iteration 18, loss = 0.16986023\n",
      "Iteration 19, loss = 0.16976620\n",
      "Iteration 20, loss = 0.16978799\n",
      "Iteration 21, loss = 0.16975331\n",
      "Iteration 22, loss = 0.16966745\n",
      "Iteration 23, loss = 0.16965681\n",
      "Iteration 24, loss = 0.16960158\n",
      "Iteration 25, loss = 0.16964504\n",
      "Iteration 26, loss = 0.16958342\n",
      "Iteration 27, loss = 0.16954760\n",
      "Training loss did not improve more than tol=0.000100 for 10 consecutive epochs. Stopping.\n",
      "1007\n",
      "Iteration 1, loss = 0.18067187\n",
      "Iteration 2, loss = 0.17232247\n",
      "Iteration 3, loss = 0.17155568\n",
      "Iteration 4, loss = 0.17128968\n",
      "Iteration 5, loss = 0.17107418\n",
      "Iteration 6, loss = 0.17089463\n",
      "Iteration 7, loss = 0.17070138\n",
      "Iteration 8, loss = 0.17059952\n",
      "Iteration 9, loss = 0.17056309\n",
      "Iteration 10, loss = 0.17042833\n",
      "Iteration 11, loss = 0.17028491\n",
      "Iteration 12, loss = 0.17035662\n",
      "Iteration 13, loss = 0.17016443\n",
      "Iteration 14, loss = 0.17011487\n",
      "Iteration 15, loss = 0.17008226\n",
      "Iteration 16, loss = 0.16999022\n",
      "Iteration 17, loss = 0.16999173\n",
      "Iteration 18, loss = 0.16991730\n",
      "Iteration 19, loss = 0.16987995\n",
      "Iteration 20, loss = 0.16984154\n",
      "Iteration 21, loss = 0.16973987\n",
      "Iteration 22, loss = 0.16979108\n",
      "Iteration 23, loss = 0.16966872\n",
      "Iteration 24, loss = 0.16970397\n",
      "Iteration 25, loss = 0.16963845\n",
      "Iteration 26, loss = 0.16960481\n",
      "Iteration 27, loss = 0.16956716\n",
      "Iteration 28, loss = 0.16951989\n",
      "Iteration 29, loss = 0.16953319\n",
      "Iteration 30, loss = 0.16952567\n",
      "Iteration 31, loss = 0.16948211\n",
      "Iteration 32, loss = 0.16942682\n",
      "Training loss did not improve more than tol=0.000100 for 10 consecutive epochs. Stopping.\n",
      "1008\n",
      "Iteration 1, loss = 0.19238436\n",
      "Iteration 2, loss = 0.17223231\n",
      "Iteration 3, loss = 0.17155579\n",
      "Iteration 4, loss = 0.17115543\n",
      "Iteration 5, loss = 0.17092651\n",
      "Iteration 6, loss = 0.17078232\n",
      "Iteration 7, loss = 0.17067683\n",
      "Iteration 8, loss = 0.17051798\n",
      "Iteration 9, loss = 0.17032459\n",
      "Iteration 10, loss = 0.17033269\n",
      "Iteration 11, loss = 0.17021945\n",
      "Iteration 12, loss = 0.17018495\n",
      "Iteration 13, loss = 0.17006334\n",
      "Iteration 14, loss = 0.17005024\n",
      "Iteration 15, loss = 0.16993768\n",
      "Iteration 16, loss = 0.16986550\n",
      "Iteration 17, loss = 0.16981902\n",
      "Iteration 18, loss = 0.16973949\n",
      "Iteration 19, loss = 0.16970101\n",
      "Iteration 20, loss = 0.16965720\n",
      "Iteration 21, loss = 0.16961805\n"
     ]
    },
    {
     "name": "stdout",
     "output_type": "stream",
     "text": [
      "Iteration 22, loss = 0.16962330\n",
      "Iteration 23, loss = 0.16954494\n",
      "Iteration 24, loss = 0.16953435\n",
      "Iteration 25, loss = 0.16951496\n",
      "Iteration 26, loss = 0.16943978\n",
      "Training loss did not improve more than tol=0.000100 for 10 consecutive epochs. Stopping.\n",
      "1009\n",
      "Iteration 1, loss = 0.19651662\n",
      "Iteration 2, loss = 0.17204132\n",
      "Iteration 3, loss = 0.17137885\n",
      "Iteration 4, loss = 0.17110277\n",
      "Iteration 5, loss = 0.17094105\n",
      "Iteration 6, loss = 0.17081154\n",
      "Iteration 7, loss = 0.17069066\n",
      "Iteration 8, loss = 0.17061285\n",
      "Iteration 9, loss = 0.17057615\n",
      "Iteration 10, loss = 0.17049845\n",
      "Iteration 11, loss = 0.17041165\n",
      "Iteration 12, loss = 0.17039059\n",
      "Iteration 13, loss = 0.17036522\n",
      "Iteration 14, loss = 0.17026730\n",
      "Iteration 15, loss = 0.17029466\n",
      "Iteration 16, loss = 0.17023509\n",
      "Iteration 17, loss = 0.17017364\n",
      "Iteration 18, loss = 0.17013081\n",
      "Training loss did not improve more than tol=0.000100 for 10 consecutive epochs. Stopping.\n",
      "1010\n",
      "Iteration 1, loss = 0.20221411\n",
      "Iteration 2, loss = 0.17306329\n",
      "Iteration 3, loss = 0.17189286\n",
      "Iteration 4, loss = 0.17144405\n",
      "Iteration 5, loss = 0.17122894\n",
      "Iteration 6, loss = 0.17108199\n",
      "Iteration 7, loss = 0.17083381\n",
      "Iteration 8, loss = 0.17078067\n",
      "Iteration 9, loss = 0.17066107\n",
      "Iteration 10, loss = 0.17060009\n",
      "Iteration 11, loss = 0.17054511\n",
      "Iteration 12, loss = 0.17044599\n",
      "Iteration 13, loss = 0.17036664\n",
      "Iteration 14, loss = 0.17039533\n",
      "Iteration 15, loss = 0.17036934\n",
      "Iteration 16, loss = 0.17024998\n",
      "Iteration 17, loss = 0.17027924\n",
      "Iteration 18, loss = 0.17018096\n",
      "Iteration 19, loss = 0.17013108\n",
      "Iteration 20, loss = 0.17007560\n",
      "Iteration 21, loss = 0.16998815\n",
      "Iteration 22, loss = 0.17003487\n",
      "Iteration 23, loss = 0.16997891\n",
      "Iteration 24, loss = 0.16993979\n",
      "Iteration 25, loss = 0.16993920\n",
      "Iteration 26, loss = 0.16988255\n",
      "Iteration 27, loss = 0.16988230\n",
      "Training loss did not improve more than tol=0.000100 for 10 consecutive epochs. Stopping.\n",
      "1011\n",
      "Iteration 1, loss = 0.18171916\n",
      "Iteration 2, loss = 0.17188723\n",
      "Iteration 3, loss = 0.17137044\n",
      "Iteration 4, loss = 0.17103798\n",
      "Iteration 5, loss = 0.17087451\n",
      "Iteration 6, loss = 0.17076387\n",
      "Iteration 7, loss = 0.17066166\n",
      "Iteration 8, loss = 0.17049903\n",
      "Iteration 9, loss = 0.17047281\n",
      "Iteration 10, loss = 0.17039124\n",
      "Iteration 11, loss = 0.17029250\n",
      "Iteration 12, loss = 0.17010704\n",
      "Iteration 13, loss = 0.17007539\n",
      "Iteration 14, loss = 0.17003265\n",
      "Iteration 15, loss = 0.16999065\n",
      "Iteration 16, loss = 0.16989820\n",
      "Iteration 17, loss = 0.16984216\n",
      "Iteration 18, loss = 0.16977439\n",
      "Iteration 19, loss = 0.16977193\n",
      "Iteration 20, loss = 0.16965912\n",
      "Iteration 21, loss = 0.16969487\n",
      "Iteration 22, loss = 0.16966367\n",
      "Iteration 23, loss = 0.16962016\n",
      "Iteration 24, loss = 0.16958003\n",
      "Iteration 25, loss = 0.16952313\n",
      "Iteration 26, loss = 0.16953897\n",
      "Iteration 27, loss = 0.16949300\n",
      "Iteration 28, loss = 0.16943322\n",
      "Iteration 29, loss = 0.16944188\n",
      "Iteration 30, loss = 0.16943579\n",
      "Iteration 31, loss = 0.16939963\n",
      "Training loss did not improve more than tol=0.000100 for 10 consecutive epochs. Stopping.\n",
      "1012\n",
      "Iteration 1, loss = 0.23257547\n",
      "Iteration 2, loss = 0.17339323\n",
      "Iteration 3, loss = 0.17209324\n",
      "Iteration 4, loss = 0.17154484\n",
      "Iteration 5, loss = 0.17122404\n",
      "Iteration 6, loss = 0.17101859\n",
      "Iteration 7, loss = 0.17085904\n",
      "Iteration 8, loss = 0.17074656\n",
      "Iteration 9, loss = 0.17063141\n",
      "Iteration 10, loss = 0.17058467\n",
      "Iteration 11, loss = 0.17049375\n",
      "Iteration 12, loss = 0.17044659\n",
      "Iteration 13, loss = 0.17037910\n",
      "Iteration 14, loss = 0.17035360\n",
      "Iteration 15, loss = 0.17030174\n",
      "Iteration 16, loss = 0.17032344\n",
      "Iteration 17, loss = 0.17020850\n",
      "Iteration 18, loss = 0.17018172\n",
      "Iteration 19, loss = 0.17015213\n",
      "Iteration 20, loss = 0.17010166\n",
      "Training loss did not improve more than tol=0.000100 for 10 consecutive epochs. Stopping.\n",
      "1013\n",
      "Iteration 1, loss = 0.19804920\n",
      "Iteration 2, loss = 0.17265594\n",
      "Iteration 3, loss = 0.17165269\n",
      "Iteration 4, loss = 0.17127873\n",
      "Iteration 5, loss = 0.17105645\n",
      "Iteration 6, loss = 0.17085528\n",
      "Iteration 7, loss = 0.17068312\n",
      "Iteration 8, loss = 0.17059925\n",
      "Iteration 9, loss = 0.17050396\n",
      "Iteration 10, loss = 0.17046230\n",
      "Iteration 11, loss = 0.17041953\n",
      "Iteration 12, loss = 0.17032995\n",
      "Iteration 13, loss = 0.17025601\n",
      "Iteration 14, loss = 0.17026254\n",
      "Iteration 15, loss = 0.17015067\n",
      "Iteration 16, loss = 0.17005976\n",
      "Iteration 17, loss = 0.17010030\n",
      "Iteration 18, loss = 0.16996783\n",
      "Iteration 19, loss = 0.16998875\n",
      "Iteration 20, loss = 0.16988211\n",
      "Iteration 21, loss = 0.16999205\n",
      "Iteration 22, loss = 0.16989403\n",
      "Iteration 23, loss = 0.16979736\n",
      "Iteration 24, loss = 0.16985859\n",
      "Iteration 25, loss = 0.16976052\n",
      "Iteration 26, loss = 0.16975820\n",
      "Training loss did not improve more than tol=0.000100 for 10 consecutive epochs. Stopping.\n",
      "1014\n",
      "Iteration 1, loss = 0.19309010\n",
      "Iteration 2, loss = 0.17212911\n",
      "Iteration 3, loss = 0.17145807\n",
      "Iteration 4, loss = 0.17117341\n",
      "Iteration 5, loss = 0.17104206\n",
      "Iteration 6, loss = 0.17084621\n",
      "Iteration 7, loss = 0.17071986\n",
      "Iteration 8, loss = 0.17061778\n",
      "Iteration 9, loss = 0.17061348\n",
      "Iteration 10, loss = 0.17048733\n",
      "Iteration 11, loss = 0.17039256\n",
      "Iteration 12, loss = 0.17029412\n",
      "Iteration 13, loss = 0.17030195\n",
      "Iteration 14, loss = 0.17022855\n",
      "Iteration 15, loss = 0.17014597\n",
      "Iteration 16, loss = 0.17012050\n",
      "Iteration 17, loss = 0.17004261\n",
      "Iteration 18, loss = 0.16998058\n",
      "Iteration 19, loss = 0.16996945\n",
      "Iteration 20, loss = 0.16990258\n",
      "Iteration 21, loss = 0.16985708\n",
      "Training loss did not improve more than tol=0.000100 for 10 consecutive epochs. Stopping.\n",
      "1015\n",
      "Iteration 1, loss = 0.20057178\n",
      "Iteration 2, loss = 0.17267124\n",
      "Iteration 3, loss = 0.17176733\n",
      "Iteration 4, loss = 0.17147334\n",
      "Iteration 5, loss = 0.17120321\n",
      "Iteration 6, loss = 0.17101561\n",
      "Iteration 7, loss = 0.17097113\n",
      "Iteration 8, loss = 0.17079364\n",
      "Iteration 9, loss = 0.17067295\n",
      "Iteration 10, loss = 0.17060963\n",
      "Iteration 11, loss = 0.17059343\n",
      "Iteration 12, loss = 0.17048035\n",
      "Iteration 13, loss = 0.17047120\n",
      "Iteration 14, loss = 0.17044846\n",
      "Iteration 15, loss = 0.17038103\n",
      "Iteration 16, loss = 0.17030915\n",
      "Iteration 17, loss = 0.17028125\n",
      "Iteration 18, loss = 0.17020523\n",
      "Iteration 19, loss = 0.17023178\n",
      "Iteration 20, loss = 0.17016223\n",
      "Iteration 21, loss = 0.17022306\n",
      "Iteration 22, loss = 0.17013636\n",
      "Iteration 23, loss = 0.17011149\n",
      "Training loss did not improve more than tol=0.000100 for 10 consecutive epochs. Stopping.\n",
      "1016\n",
      "Iteration 1, loss = 0.20797564\n",
      "Iteration 2, loss = 0.17232817\n",
      "Iteration 3, loss = 0.17167791\n",
      "Iteration 4, loss = 0.17128331\n",
      "Iteration 5, loss = 0.17106509\n",
      "Iteration 6, loss = 0.17086160\n",
      "Iteration 7, loss = 0.17069681\n",
      "Iteration 8, loss = 0.17068817\n",
      "Iteration 9, loss = 0.17051128\n",
      "Iteration 10, loss = 0.17041900\n",
      "Iteration 11, loss = 0.17026135\n",
      "Iteration 12, loss = 0.17024213\n",
      "Iteration 13, loss = 0.17021656\n",
      "Iteration 14, loss = 0.17014461\n",
      "Iteration 15, loss = 0.17004056\n",
      "Iteration 16, loss = 0.17004587\n",
      "Iteration 17, loss = 0.16998920\n",
      "Iteration 18, loss = 0.16997254\n",
      "Iteration 19, loss = 0.16986993\n",
      "Iteration 20, loss = 0.16983531\n",
      "Iteration 21, loss = 0.16979688\n",
      "Iteration 22, loss = 0.16974538\n",
      "Iteration 23, loss = 0.16972036\n",
      "Iteration 24, loss = 0.16964230\n",
      "Iteration 25, loss = 0.16965639\n",
      "Iteration 26, loss = 0.16959202\n",
      "Iteration 27, loss = 0.16959428\n",
      "Iteration 28, loss = 0.16953742\n",
      "Iteration 29, loss = 0.16950189\n",
      "Iteration 30, loss = 0.16945177\n",
      "Training loss did not improve more than tol=0.000100 for 10 consecutive epochs. Stopping.\n",
      "1017\n",
      "Iteration 1, loss = 0.18617809\n",
      "Iteration 2, loss = 0.17183498\n",
      "Iteration 3, loss = 0.17122368\n",
      "Iteration 4, loss = 0.17099633\n",
      "Iteration 5, loss = 0.17074071\n",
      "Iteration 6, loss = 0.17060289\n",
      "Iteration 7, loss = 0.17048015\n",
      "Iteration 8, loss = 0.17042316\n",
      "Iteration 9, loss = 0.17033165\n",
      "Iteration 10, loss = 0.17023361\n",
      "Iteration 11, loss = 0.17018109\n",
      "Iteration 12, loss = 0.17009550\n",
      "Iteration 13, loss = 0.17003665\n",
      "Iteration 14, loss = 0.17000801\n",
      "Iteration 15, loss = 0.16997591\n",
      "Iteration 16, loss = 0.16990965\n",
      "Iteration 17, loss = 0.16985951\n",
      "Iteration 18, loss = 0.16980350\n",
      "Training loss did not improve more than tol=0.000100 for 10 consecutive epochs. Stopping.\n",
      "1018\n",
      "Iteration 1, loss = 0.18290917\n",
      "Iteration 2, loss = 0.17187834\n",
      "Iteration 3, loss = 0.17139273\n",
      "Iteration 4, loss = 0.17104365\n",
      "Iteration 5, loss = 0.17092743\n",
      "Iteration 6, loss = 0.17078984\n",
      "Iteration 7, loss = 0.17070126\n",
      "Iteration 8, loss = 0.17056822\n",
      "Iteration 9, loss = 0.17043201\n",
      "Iteration 10, loss = 0.17040691\n",
      "Iteration 11, loss = 0.17024892\n"
     ]
    },
    {
     "name": "stdout",
     "output_type": "stream",
     "text": [
      "Iteration 12, loss = 0.17023575\n",
      "Iteration 13, loss = 0.17014700\n",
      "Iteration 14, loss = 0.17017069\n",
      "Iteration 15, loss = 0.17010353\n",
      "Iteration 16, loss = 0.17006761\n",
      "Iteration 17, loss = 0.16996633\n",
      "Iteration 18, loss = 0.17002188\n",
      "Iteration 19, loss = 0.16998802\n",
      "Iteration 20, loss = 0.16991175\n",
      "Iteration 21, loss = 0.16985111\n",
      "Iteration 22, loss = 0.16984778\n",
      "Iteration 23, loss = 0.16980473\n",
      "Iteration 24, loss = 0.16981069\n",
      "Iteration 25, loss = 0.16974122\n",
      "Iteration 26, loss = 0.16963696\n",
      "Iteration 27, loss = 0.16970887\n",
      "Iteration 28, loss = 0.16965395\n",
      "Iteration 29, loss = 0.16958346\n",
      "Iteration 30, loss = 0.16959817\n",
      "Iteration 31, loss = 0.16961791\n",
      "Iteration 32, loss = 0.16955215\n",
      "Iteration 33, loss = 0.16952206\n",
      "Iteration 34, loss = 0.16946453\n",
      "Iteration 35, loss = 0.16944990\n",
      "Iteration 36, loss = 0.16942375\n",
      "Iteration 37, loss = 0.16940545\n",
      "Training loss did not improve more than tol=0.000100 for 10 consecutive epochs. Stopping.\n",
      "1019\n",
      "Iteration 1, loss = 0.21184052\n",
      "Iteration 2, loss = 0.17323735\n",
      "Iteration 3, loss = 0.17190695\n",
      "Iteration 4, loss = 0.17142556\n",
      "Iteration 5, loss = 0.17118205\n",
      "Iteration 6, loss = 0.17092740\n",
      "Iteration 7, loss = 0.17074567\n",
      "Iteration 8, loss = 0.17065206\n",
      "Iteration 9, loss = 0.17061277\n",
      "Iteration 10, loss = 0.17051038\n",
      "Iteration 11, loss = 0.17048918\n",
      "Iteration 12, loss = 0.17031009\n",
      "Iteration 13, loss = 0.17036307\n",
      "Iteration 14, loss = 0.17027753\n",
      "Iteration 15, loss = 0.17021870\n",
      "Iteration 16, loss = 0.17018179\n",
      "Iteration 17, loss = 0.17009383\n",
      "Iteration 18, loss = 0.17012516\n",
      "Iteration 19, loss = 0.17005576\n",
      "Iteration 20, loss = 0.17006864\n",
      "Iteration 21, loss = 0.16994993\n",
      "Iteration 22, loss = 0.16992253\n",
      "Iteration 23, loss = 0.16985354\n",
      "Iteration 24, loss = 0.16986122\n",
      "Iteration 25, loss = 0.16976985\n",
      "Iteration 26, loss = 0.16982703\n",
      "Iteration 27, loss = 0.16976707\n",
      "Iteration 28, loss = 0.16969677\n",
      "Iteration 29, loss = 0.16970196\n",
      "Iteration 30, loss = 0.16960369\n",
      "Iteration 31, loss = 0.16963562\n",
      "Iteration 32, loss = 0.16957539\n",
      "Training loss did not improve more than tol=0.000100 for 10 consecutive epochs. Stopping.\n",
      "1020\n",
      "Iteration 1, loss = 0.19670978\n",
      "Iteration 2, loss = 0.17236339\n",
      "Iteration 3, loss = 0.17165314\n",
      "Iteration 4, loss = 0.17131161\n",
      "Iteration 5, loss = 0.17105697\n",
      "Iteration 6, loss = 0.17092363\n",
      "Iteration 7, loss = 0.17077010\n",
      "Iteration 8, loss = 0.17068805\n",
      "Iteration 9, loss = 0.17062869\n",
      "Iteration 10, loss = 0.17058092\n",
      "Iteration 11, loss = 0.17046003\n",
      "Iteration 12, loss = 0.17037126\n",
      "Iteration 13, loss = 0.17031279\n",
      "Iteration 14, loss = 0.17026327\n",
      "Iteration 15, loss = 0.17023561\n",
      "Iteration 16, loss = 0.17013575\n",
      "Iteration 17, loss = 0.17014767\n",
      "Iteration 18, loss = 0.17008758\n",
      "Iteration 19, loss = 0.17003893\n",
      "Iteration 20, loss = 0.16999257\n",
      "Iteration 21, loss = 0.16993777\n",
      "Iteration 22, loss = 0.16989745\n",
      "Training loss did not improve more than tol=0.000100 for 10 consecutive epochs. Stopping.\n"
     ]
    }
   ],
   "source": [
    "all_preds = pd.DataFrame(index=df_ft.index)\n",
    "for seed_ in np.arange(1000, 1021):\n",
    "    print(seed_)\n",
    "    nn = neural_network.MLPClassifier(hidden_layer_sizes=(25, 10), verbose=1, random_state=seed_)\n",
    "    nn.fit(tr_f_sc, df_f[\"is_click\"])\n",
    "    all_preds[\"nn_seed_{}\".format(seed_)] = nn.predict_proba(te_f_sc)[:,1]"
   ]
  },
  {
   "cell_type": "code",
   "execution_count": 48,
   "metadata": {},
   "outputs": [
    {
     "data": {
      "text/plain": [
       "(90675, 21)"
      ]
     },
     "execution_count": 48,
     "metadata": {},
     "output_type": "execute_result"
    }
   ],
   "source": [
    "all_preds.shape"
   ]
  },
  {
   "cell_type": "code",
   "execution_count": 49,
   "metadata": {
    "scrolled": true
   },
   "outputs": [
    {
     "name": "stdout",
     "output_type": "stream",
     "text": [
      "1000\n",
      "1001\n",
      "1002\n",
      "1003\n",
      "1004\n",
      "1005\n",
      "1006\n",
      "1007\n",
      "1008\n",
      "1009\n",
      "1010\n",
      "1011\n",
      "1012\n",
      "1013\n",
      "1014\n",
      "1015\n",
      "1016\n",
      "1017\n",
      "1018\n",
      "1019\n",
      "1020\n"
     ]
    }
   ],
   "source": [
    "# all_preds = pd.DataFrame(index=df_ft.index)\n",
    "for seed_ in np.arange(1000, 1021):\n",
    "    print(seed_)\n",
    "    lgb = lightgbm.LGBMClassifier(n_estimators=650, max_depth=5, learning_rate=0.005, colsample_bytree=0.6, random_state=seed_)\n",
    "    lgb.fit(df_f[predictors], df_f[\"is_click\"])\n",
    "    all_preds[\"lgb_seed_{}\".format(seed_)] = lgb.predict_proba(df_ft[predictors])[:,1]"
   ]
  },
  {
   "cell_type": "code",
   "execution_count": 50,
   "metadata": {},
   "outputs": [],
   "source": [
    "nn_cols = [col for col in all_preds if col.startswith(\"nn\")]\n",
    "lgb_cols = [col for col in all_preds if col.startswith(\"lgb\")]"
   ]
  },
  {
   "cell_type": "code",
   "execution_count": 51,
   "metadata": {},
   "outputs": [
    {
     "data": {
      "text/plain": [
       "(90675, 42)"
      ]
     },
     "execution_count": 51,
     "metadata": {},
     "output_type": "execute_result"
    }
   ],
   "source": [
    "all_preds.shape"
   ]
  },
  {
   "cell_type": "code",
   "execution_count": 52,
   "metadata": {},
   "outputs": [],
   "source": [
    "preds_t = hmean((all_preds[nn_cols].mean(1), all_preds[lgb_cols].mean(1).values))"
   ]
  },
  {
   "cell_type": "code",
   "execution_count": 53,
   "metadata": {},
   "outputs": [],
   "source": [
    "sub = pd.DataFrame({\"impression_id\":df_ft.impression_id.values, \"is_click\":preds_t})"
   ]
  },
  {
   "cell_type": "code",
   "execution_count": 54,
   "metadata": {},
   "outputs": [],
   "source": [
    "sub.to_csv(\"sub_2.csv\", index=False)"
   ]
  }
 ],
 "metadata": {
  "kernelspec": {
   "display_name": "Python 3",
   "language": "python",
   "name": "python3"
  },
  "language_info": {
   "codemirror_mode": {
    "name": "ipython",
    "version": 3
   },
   "file_extension": ".py",
   "mimetype": "text/x-python",
   "name": "python",
   "nbconvert_exporter": "python",
   "pygments_lexer": "ipython3",
   "version": "3.7.1"
  }
 },
 "nbformat": 4,
 "nbformat_minor": 2
}
